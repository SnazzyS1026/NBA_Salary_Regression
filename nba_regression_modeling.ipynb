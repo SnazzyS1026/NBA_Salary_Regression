{
 "cells": [
  {
   "cell_type": "code",
   "execution_count": 2,
   "id": "266e5487",
   "metadata": {},
   "outputs": [],
   "source": [
    "import pandas as pd\n",
    "import numpy as np\n",
    "import matplotlib.pyplot as plt\n",
    "import seaborn as sns\n",
    "sns.set()\n",
    "%matplotlib inline"
   ]
  },
  {
   "cell_type": "markdown",
   "id": "a4ba3f5a",
   "metadata": {},
   "source": [
    "## Import Files"
   ]
  },
  {
   "cell_type": "code",
   "execution_count": 7,
   "id": "9304f57c",
   "metadata": {},
   "outputs": [
    {
     "data": {
      "text/html": [
       "<div>\n",
       "<style scoped>\n",
       "    .dataframe tbody tr th:only-of-type {\n",
       "        vertical-align: middle;\n",
       "    }\n",
       "\n",
       "    .dataframe tbody tr th {\n",
       "        vertical-align: top;\n",
       "    }\n",
       "\n",
       "    .dataframe thead th {\n",
       "        text-align: right;\n",
       "    }\n",
       "</style>\n",
       "<table border=\"1\" class=\"dataframe\">\n",
       "  <thead>\n",
       "    <tr style=\"text-align: right;\">\n",
       "      <th></th>\n",
       "      <th>Player</th>\n",
       "      <th>2021-22</th>\n",
       "      <th>2020-21</th>\n",
       "      <th>2019-20</th>\n",
       "      <th>2018-19</th>\n",
       "      <th>2017-18</th>\n",
       "      <th>2016-17</th>\n",
       "      <th>2015-16</th>\n",
       "      <th>2014-15</th>\n",
       "      <th>2013-14</th>\n",
       "      <th>...</th>\n",
       "      <th>2005-06</th>\n",
       "      <th>2004-05</th>\n",
       "      <th>2003-04</th>\n",
       "      <th>2002-03</th>\n",
       "      <th>2001-02</th>\n",
       "      <th>2000-01</th>\n",
       "      <th>1999-00</th>\n",
       "      <th>1998-99</th>\n",
       "      <th>1997-98</th>\n",
       "      <th>1996-97</th>\n",
       "    </tr>\n",
       "  </thead>\n",
       "  <tbody>\n",
       "    <tr>\n",
       "      <th>0</th>\n",
       "      <td>Stephen Curry</td>\n",
       "      <td>45780966.0</td>\n",
       "      <td>45325029.0</td>\n",
       "      <td>42674629.0</td>\n",
       "      <td>40386520.0</td>\n",
       "      <td>38468739.0</td>\n",
       "      <td>13654081.0</td>\n",
       "      <td>12945956.0</td>\n",
       "      <td>12116632.0</td>\n",
       "      <td>11504868.0</td>\n",
       "      <td>...</td>\n",
       "      <td>NaN</td>\n",
       "      <td>NaN</td>\n",
       "      <td>NaN</td>\n",
       "      <td>NaN</td>\n",
       "      <td>NaN</td>\n",
       "      <td>NaN</td>\n",
       "      <td>NaN</td>\n",
       "      <td>NaN</td>\n",
       "      <td>NaN</td>\n",
       "      <td>NaN</td>\n",
       "    </tr>\n",
       "    <tr>\n",
       "      <th>1</th>\n",
       "      <td>James Harden</td>\n",
       "      <td>44310840.0</td>\n",
       "      <td>43479158.0</td>\n",
       "      <td>40518442.0</td>\n",
       "      <td>32960751.0</td>\n",
       "      <td>31388759.0</td>\n",
       "      <td>29918259.0</td>\n",
       "      <td>17896589.0</td>\n",
       "      <td>16750126.0</td>\n",
       "      <td>15904415.0</td>\n",
       "      <td>...</td>\n",
       "      <td>NaN</td>\n",
       "      <td>NaN</td>\n",
       "      <td>NaN</td>\n",
       "      <td>NaN</td>\n",
       "      <td>NaN</td>\n",
       "      <td>NaN</td>\n",
       "      <td>NaN</td>\n",
       "      <td>NaN</td>\n",
       "      <td>NaN</td>\n",
       "      <td>NaN</td>\n",
       "    </tr>\n",
       "    <tr>\n",
       "      <th>2</th>\n",
       "      <td>John Wall</td>\n",
       "      <td>44310840.0</td>\n",
       "      <td>43479158.0</td>\n",
       "      <td>40518442.0</td>\n",
       "      <td>20668989.0</td>\n",
       "      <td>20035826.0</td>\n",
       "      <td>17761997.0</td>\n",
       "      <td>16769198.0</td>\n",
       "      <td>15618561.0</td>\n",
       "      <td>8680071.0</td>\n",
       "      <td>...</td>\n",
       "      <td>NaN</td>\n",
       "      <td>NaN</td>\n",
       "      <td>NaN</td>\n",
       "      <td>NaN</td>\n",
       "      <td>NaN</td>\n",
       "      <td>NaN</td>\n",
       "      <td>NaN</td>\n",
       "      <td>NaN</td>\n",
       "      <td>NaN</td>\n",
       "      <td>NaN</td>\n",
       "    </tr>\n",
       "    <tr>\n",
       "      <th>3</th>\n",
       "      <td>Russell Westbrook</td>\n",
       "      <td>44211146.0</td>\n",
       "      <td>43588654.0</td>\n",
       "      <td>40844595.0</td>\n",
       "      <td>38454209.0</td>\n",
       "      <td>31388759.0</td>\n",
       "      <td>29918259.0</td>\n",
       "      <td>19063757.0</td>\n",
       "      <td>17918740.0</td>\n",
       "      <td>17097246.0</td>\n",
       "      <td>...</td>\n",
       "      <td>NaN</td>\n",
       "      <td>NaN</td>\n",
       "      <td>NaN</td>\n",
       "      <td>NaN</td>\n",
       "      <td>NaN</td>\n",
       "      <td>NaN</td>\n",
       "      <td>NaN</td>\n",
       "      <td>NaN</td>\n",
       "      <td>NaN</td>\n",
       "      <td>NaN</td>\n",
       "    </tr>\n",
       "    <tr>\n",
       "      <th>4</th>\n",
       "      <td>Kevin Durant</td>\n",
       "      <td>42018900.0</td>\n",
       "      <td>42271404.0</td>\n",
       "      <td>39457722.0</td>\n",
       "      <td>32346173.0</td>\n",
       "      <td>27729174.0</td>\n",
       "      <td>29918259.0</td>\n",
       "      <td>25015562.0</td>\n",
       "      <td>22795904.0</td>\n",
       "      <td>21843723.0</td>\n",
       "      <td>...</td>\n",
       "      <td>NaN</td>\n",
       "      <td>NaN</td>\n",
       "      <td>NaN</td>\n",
       "      <td>NaN</td>\n",
       "      <td>NaN</td>\n",
       "      <td>NaN</td>\n",
       "      <td>NaN</td>\n",
       "      <td>NaN</td>\n",
       "      <td>NaN</td>\n",
       "      <td>NaN</td>\n",
       "    </tr>\n",
       "  </tbody>\n",
       "</table>\n",
       "<p>5 rows × 27 columns</p>\n",
       "</div>"
      ],
      "text/plain": [
       "              Player     2021-22     2020-21     2019-20     2018-19  \\\n",
       "0      Stephen Curry  45780966.0  45325029.0  42674629.0  40386520.0   \n",
       "1       James Harden  44310840.0  43479158.0  40518442.0  32960751.0   \n",
       "2          John Wall  44310840.0  43479158.0  40518442.0  20668989.0   \n",
       "3  Russell Westbrook  44211146.0  43588654.0  40844595.0  38454209.0   \n",
       "4       Kevin Durant  42018900.0  42271404.0  39457722.0  32346173.0   \n",
       "\n",
       "      2017-18     2016-17     2015-16     2014-15     2013-14  ...  2005-06  \\\n",
       "0  38468739.0  13654081.0  12945956.0  12116632.0  11504868.0  ...      NaN   \n",
       "1  31388759.0  29918259.0  17896589.0  16750126.0  15904415.0  ...      NaN   \n",
       "2  20035826.0  17761997.0  16769198.0  15618561.0   8680071.0  ...      NaN   \n",
       "3  31388759.0  29918259.0  19063757.0  17918740.0  17097246.0  ...      NaN   \n",
       "4  27729174.0  29918259.0  25015562.0  22795904.0  21843723.0  ...      NaN   \n",
       "\n",
       "   2004-05  2003-04  2002-03  2001-02  2000-01  1999-00  1998-99  1997-98  \\\n",
       "0      NaN      NaN      NaN      NaN      NaN      NaN      NaN      NaN   \n",
       "1      NaN      NaN      NaN      NaN      NaN      NaN      NaN      NaN   \n",
       "2      NaN      NaN      NaN      NaN      NaN      NaN      NaN      NaN   \n",
       "3      NaN      NaN      NaN      NaN      NaN      NaN      NaN      NaN   \n",
       "4      NaN      NaN      NaN      NaN      NaN      NaN      NaN      NaN   \n",
       "\n",
       "   1996-97  \n",
       "0      NaN  \n",
       "1      NaN  \n",
       "2      NaN  \n",
       "3      NaN  \n",
       "4      NaN  \n",
       "\n",
       "[5 rows x 27 columns]"
      ]
     },
     "execution_count": 7,
     "metadata": {},
     "output_type": "execute_result"
    }
   ],
   "source": [
    "# Import NBA salaries table\n",
    "nba_salary = pd.read_csv('nba_salary2.csv')\n",
    "nba_salary.head()"
   ]
  },
  {
   "cell_type": "code",
   "execution_count": 8,
   "id": "4bfbca92",
   "metadata": {},
   "outputs": [
    {
     "data": {
      "text/html": [
       "<div>\n",
       "<style scoped>\n",
       "    .dataframe tbody tr th:only-of-type {\n",
       "        vertical-align: middle;\n",
       "    }\n",
       "\n",
       "    .dataframe tbody tr th {\n",
       "        vertical-align: top;\n",
       "    }\n",
       "\n",
       "    .dataframe thead th {\n",
       "        text-align: right;\n",
       "    }\n",
       "</style>\n",
       "<table border=\"1\" class=\"dataframe\">\n",
       "  <thead>\n",
       "    <tr style=\"text-align: right;\">\n",
       "      <th></th>\n",
       "      <th>PLAYER</th>\n",
       "      <th>AGE</th>\n",
       "      <th>GP</th>\n",
       "      <th>W</th>\n",
       "      <th>L</th>\n",
       "      <th>MIN</th>\n",
       "      <th>PTS</th>\n",
       "      <th>FGM</th>\n",
       "      <th>FGA</th>\n",
       "      <th>FG%</th>\n",
       "      <th>...</th>\n",
       "      <th>REB</th>\n",
       "      <th>AST</th>\n",
       "      <th>TOV</th>\n",
       "      <th>STL</th>\n",
       "      <th>BLK</th>\n",
       "      <th>PF</th>\n",
       "      <th>DD2</th>\n",
       "      <th>TD3</th>\n",
       "      <th>+/-</th>\n",
       "      <th>SEASON</th>\n",
       "    </tr>\n",
       "  </thead>\n",
       "  <tbody>\n",
       "    <tr>\n",
       "      <th>0</th>\n",
       "      <td>Trae Young</td>\n",
       "      <td>23</td>\n",
       "      <td>76</td>\n",
       "      <td>40</td>\n",
       "      <td>36</td>\n",
       "      <td>2652</td>\n",
       "      <td>2155</td>\n",
       "      <td>711</td>\n",
       "      <td>1544</td>\n",
       "      <td>46.0</td>\n",
       "      <td>...</td>\n",
       "      <td>284</td>\n",
       "      <td>737</td>\n",
       "      <td>303</td>\n",
       "      <td>72</td>\n",
       "      <td>7</td>\n",
       "      <td>128</td>\n",
       "      <td>42</td>\n",
       "      <td>0</td>\n",
       "      <td>159</td>\n",
       "      <td>2021-22</td>\n",
       "    </tr>\n",
       "    <tr>\n",
       "      <th>1</th>\n",
       "      <td>DeMar DeRozan</td>\n",
       "      <td>32</td>\n",
       "      <td>76</td>\n",
       "      <td>43</td>\n",
       "      <td>33</td>\n",
       "      <td>2743</td>\n",
       "      <td>2118</td>\n",
       "      <td>774</td>\n",
       "      <td>1535</td>\n",
       "      <td>50.4</td>\n",
       "      <td>...</td>\n",
       "      <td>392</td>\n",
       "      <td>374</td>\n",
       "      <td>181</td>\n",
       "      <td>68</td>\n",
       "      <td>24</td>\n",
       "      <td>178</td>\n",
       "      <td>6</td>\n",
       "      <td>0</td>\n",
       "      <td>77</td>\n",
       "      <td>2021-22</td>\n",
       "    </tr>\n",
       "    <tr>\n",
       "      <th>2</th>\n",
       "      <td>Joel Embiid</td>\n",
       "      <td>28</td>\n",
       "      <td>68</td>\n",
       "      <td>45</td>\n",
       "      <td>23</td>\n",
       "      <td>2296</td>\n",
       "      <td>2079</td>\n",
       "      <td>666</td>\n",
       "      <td>1334</td>\n",
       "      <td>49.9</td>\n",
       "      <td>...</td>\n",
       "      <td>796</td>\n",
       "      <td>284</td>\n",
       "      <td>214</td>\n",
       "      <td>77</td>\n",
       "      <td>99</td>\n",
       "      <td>181</td>\n",
       "      <td>46</td>\n",
       "      <td>2</td>\n",
       "      <td>368</td>\n",
       "      <td>2021-22</td>\n",
       "    </tr>\n",
       "    <tr>\n",
       "      <th>3</th>\n",
       "      <td>Jayson Tatum</td>\n",
       "      <td>24</td>\n",
       "      <td>76</td>\n",
       "      <td>49</td>\n",
       "      <td>27</td>\n",
       "      <td>2731</td>\n",
       "      <td>2046</td>\n",
       "      <td>708</td>\n",
       "      <td>1564</td>\n",
       "      <td>45.3</td>\n",
       "      <td>...</td>\n",
       "      <td>609</td>\n",
       "      <td>334</td>\n",
       "      <td>217</td>\n",
       "      <td>75</td>\n",
       "      <td>49</td>\n",
       "      <td>174</td>\n",
       "      <td>22</td>\n",
       "      <td>0</td>\n",
       "      <td>667</td>\n",
       "      <td>2021-22</td>\n",
       "    </tr>\n",
       "    <tr>\n",
       "      <th>4</th>\n",
       "      <td>Nikola Jokic</td>\n",
       "      <td>27</td>\n",
       "      <td>74</td>\n",
       "      <td>46</td>\n",
       "      <td>28</td>\n",
       "      <td>2476</td>\n",
       "      <td>2004</td>\n",
       "      <td>764</td>\n",
       "      <td>1311</td>\n",
       "      <td>58.3</td>\n",
       "      <td>...</td>\n",
       "      <td>1019</td>\n",
       "      <td>584</td>\n",
       "      <td>281</td>\n",
       "      <td>109</td>\n",
       "      <td>63</td>\n",
       "      <td>191</td>\n",
       "      <td>66</td>\n",
       "      <td>19</td>\n",
       "      <td>444</td>\n",
       "      <td>2021-22</td>\n",
       "    </tr>\n",
       "  </tbody>\n",
       "</table>\n",
       "<p>5 rows × 28 columns</p>\n",
       "</div>"
      ],
      "text/plain": [
       "          PLAYER  AGE  GP   W   L   MIN   PTS  FGM   FGA   FG%  ...   REB  \\\n",
       "0     Trae Young   23  76  40  36  2652  2155  711  1544  46.0  ...   284   \n",
       "1  DeMar DeRozan   32  76  43  33  2743  2118  774  1535  50.4  ...   392   \n",
       "2    Joel Embiid   28  68  45  23  2296  2079  666  1334  49.9  ...   796   \n",
       "3   Jayson Tatum   24  76  49  27  2731  2046  708  1564  45.3  ...   609   \n",
       "4   Nikola Jokic   27  74  46  28  2476  2004  764  1311  58.3  ...  1019   \n",
       "\n",
       "   AST  TOV  STL  BLK   PF  DD2  TD3  +/-   SEASON  \n",
       "0  737  303   72    7  128   42    0  159  2021-22  \n",
       "1  374  181   68   24  178    6    0   77  2021-22  \n",
       "2  284  214   77   99  181   46    2  368  2021-22  \n",
       "3  334  217   75   49  174   22    0  667  2021-22  \n",
       "4  584  281  109   63  191   66   19  444  2021-22  \n",
       "\n",
       "[5 rows x 28 columns]"
      ]
     },
     "execution_count": 8,
     "metadata": {},
     "output_type": "execute_result"
    }
   ],
   "source": [
    "# Import NBA stats table\n",
    "nba_stats = pd.read_csv('nba_stats.csv')\n",
    "nba_stats.head()"
   ]
  },
  {
   "cell_type": "code",
   "execution_count": null,
   "id": "fb6ee3c2",
   "metadata": {},
   "outputs": [],
   "source": []
  },
  {
   "cell_type": "code",
   "execution_count": null,
   "id": "ae5248fc",
   "metadata": {},
   "outputs": [],
   "source": []
  },
  {
   "cell_type": "code",
   "execution_count": null,
   "id": "6f816287",
   "metadata": {},
   "outputs": [],
   "source": [
    "pd.options.display.float_format = '{:.2f}'.format # show only up to 2 decimal places\n",
    "# nba = pd.read_csv('nba_stats_merged.csv', encoding='utf-8')\n",
    "# nba"
   ]
  },
  {
   "cell_type": "markdown",
   "id": "10f99f91",
   "metadata": {},
   "source": [
    "## Data Cleaning"
   ]
  },
  {
   "cell_type": "code",
   "execution_count": null,
   "id": "91834215",
   "metadata": {},
   "outputs": [],
   "source": [
    "# Explore descriptive statistics of the variables\n",
    "nba.describe()"
   ]
  },
  {
   "cell_type": "code",
   "execution_count": null,
   "id": "cf925ea6",
   "metadata": {},
   "outputs": [],
   "source": [
    "nba.info()"
   ]
  },
  {
   "cell_type": "markdown",
   "id": "d15db316",
   "metadata": {},
   "source": [
    "No missing values indicated"
   ]
  },
  {
   "cell_type": "code",
   "execution_count": null,
   "id": "c8b04a60",
   "metadata": {},
   "outputs": [],
   "source": [
    "# Drop columns we do not want to include as variables, assign to new variable\n",
    "nba2 = nba.drop(columns=(['GP', 'W', 'L', 'FGM', 'FGA', '3PA', '3PM', 'FTM', 'FTA', 'OREB', 'DREB']), axis=1)\n",
    "nba2"
   ]
  },
  {
   "cell_type": "markdown",
   "id": "404fd138",
   "metadata": {},
   "source": [
    "We will drop 'field goals made (FGM)' and 'field goals attempted (FGA)' and keep 'field goal percentage (FG%)' instead because FG% is the ratio of FGM to FGA.\n",
    "\n",
    "We will do the same and drop '3 point field goals made (3PM)' and '3 point field goals attempted (3PA)' and keep '3 point field goals percentage (3P%)' for the equivalent reason as above.\n",
    "\n",
    "We will do the same and drop 'free throws made (FTM)' and 'free throws attempted (FTA)' and keep 'free throw percentage (FT%)' for the equivalent reason as above.\n",
    "\n",
    "We will drop 'offensive rebounds (OREB)' and 'defensive rebounds (DREB)' and keep 'rebounds (REB)' instead, as REB is the sum of both OREBB and DREB.\n",
    "\n",
    "We will drop 'games played (GP)', 'wins (W)', 'losses (L)' and keep 'minutes played (MIN)' instead, since total minutes played on the court is a better, more accurate representation of how much a player is playing.\n",
    "\n"
   ]
  },
  {
   "cell_type": "code",
   "execution_count": null,
   "id": "252a4458",
   "metadata": {
    "scrolled": true
   },
   "outputs": [],
   "source": [
    "# View correlation among all variables using pairplot\n",
    "sns.pairplot(nba2)"
   ]
  },
  {
   "cell_type": "markdown",
   "id": "d2836794",
   "metadata": {},
   "source": []
  },
  {
   "cell_type": "code",
   "execution_count": null,
   "id": "4c77ff2b",
   "metadata": {},
   "outputs": [],
   "source": [
    "# View correlation among all variables using heatmap\n",
    "sns.heatmap(nba2.corr(), cmap='seismic', annot=True)"
   ]
  },
  {
   "cell_type": "code",
   "execution_count": null,
   "id": "99abe5da",
   "metadata": {
    "scrolled": true
   },
   "outputs": [],
   "source": [
    "nba2.corr()"
   ]
  },
  {
   "cell_type": "markdown",
   "id": "48815d5a",
   "metadata": {},
   "source": [
    "Strong correlation between average salary and average minutes played, points scored, rebounds, and turnovers."
   ]
  },
  {
   "cell_type": "code",
   "execution_count": null,
   "id": "3e324925",
   "metadata": {},
   "outputs": [],
   "source": [
    "# Observe the distribution with a distribution plot of the more highly correlated variables\n",
    "sns.displot(nba2['AVG SALARY'])"
   ]
  },
  {
   "cell_type": "raw",
   "id": "fa57c67c",
   "metadata": {},
   "source": [
    "For optimal results, we would look for a normal distribution.  However, this is an exponential one.  This may be due to outliers in the data.\n",
    "\n",
    "One way to handle outliers is through the quantile method. We can remove the top 1% of observations and keep the data below the 99th percentile."
   ]
  },
  {
   "cell_type": "code",
   "execution_count": null,
   "id": "c6bf0710",
   "metadata": {},
   "outputs": [],
   "source": [
    "q = nba2['AVG SALARY'].quantile(0.99)\n",
    "data_1 = nba2[nba2['AVG SALARY']<q]\n",
    "data_1.describe(include='all')"
   ]
  },
  {
   "cell_type": "code",
   "execution_count": null,
   "id": "80173cb0",
   "metadata": {},
   "outputs": [],
   "source": []
  },
  {
   "cell_type": "code",
   "execution_count": null,
   "id": "b28deb19",
   "metadata": {},
   "outputs": [],
   "source": []
  },
  {
   "cell_type": "code",
   "execution_count": null,
   "id": "0ed87491",
   "metadata": {},
   "outputs": [],
   "source": [
    "sns.displot(nba2['MIN'])"
   ]
  },
  {
   "cell_type": "markdown",
   "id": "fa1eba1f",
   "metadata": {},
   "source": [
    "Distribution for 'MIN' looks great!"
   ]
  },
  {
   "cell_type": "code",
   "execution_count": null,
   "id": "9b695903",
   "metadata": {},
   "outputs": [],
   "source": [
    "sns.displot(nba2['PTS'])"
   ]
  },
  {
   "cell_type": "code",
   "execution_count": null,
   "id": "c9d3ebda",
   "metadata": {},
   "outputs": [],
   "source": [
    "sns.displot(nba2['TOV'])"
   ]
  },
  {
   "cell_type": "code",
   "execution_count": null,
   "id": "0229b4dd",
   "metadata": {},
   "outputs": [],
   "source": []
  },
  {
   "cell_type": "code",
   "execution_count": null,
   "id": "1174ce40",
   "metadata": {},
   "outputs": [],
   "source": []
  },
  {
   "cell_type": "code",
   "execution_count": null,
   "id": "d0c1567c",
   "metadata": {},
   "outputs": [],
   "source": [
    "plt.scatter(nba2['AVG SALARY'], nba2['PTS'])"
   ]
  },
  {
   "cell_type": "code",
   "execution_count": null,
   "id": "e274c3b6",
   "metadata": {},
   "outputs": [],
   "source": [
    "plt.scatter(nba2['AVG SALARY'], nba2['MIN'])"
   ]
  },
  {
   "cell_type": "code",
   "execution_count": null,
   "id": "eeebe4da",
   "metadata": {},
   "outputs": [],
   "source": [
    "plt.scatter(nba2['AVG SALARY'], nba2['TOV'])"
   ]
  },
  {
   "cell_type": "code",
   "execution_count": null,
   "id": "6b67925a",
   "metadata": {},
   "outputs": [],
   "source": [
    "# Use Numpy to calculate natural log of average salary"
   ]
  },
  {
   "cell_type": "code",
   "execution_count": null,
   "id": "b8cbd241",
   "metadata": {},
   "outputs": [],
   "source": [
    "# Check for multicollinearity with VIF\n",
    "\n",
    "from statsmodels.stats.outliers_influence import variance_inflation_factor\n",
    "\n",
    "variables = nba2[['PTS', 'MIN', 'TOV', 'REB']]\n",
    "vif = pd.DataFrame()\n",
    "vif['VIF'] = [variance_inflation_factor(variables.values, i) for i in range(variables.shape[1])]\n",
    "vif['features'] = variables.columns"
   ]
  },
  {
   "cell_type": "code",
   "execution_count": null,
   "id": "b63cee49",
   "metadata": {},
   "outputs": [],
   "source": [
    "vif"
   ]
  },
  {
   "cell_type": "markdown",
   "id": "1c6a7bd9",
   "metadata": {},
   "source": [
    "a vif value between 1-5 is considered good."
   ]
  },
  {
   "cell_type": "markdown",
   "id": "38c08cf1",
   "metadata": {},
   "source": [
    "# Linear Regression Model"
   ]
  },
  {
   "cell_type": "markdown",
   "id": "1413f859",
   "metadata": {},
   "source": [
    "### Declare features and target"
   ]
  },
  {
   "cell_type": "code",
   "execution_count": null,
   "id": "051c6006",
   "metadata": {},
   "outputs": [],
   "source": [
    "# Target\n",
    "y = nba2['AVG SALARY']\n",
    "# Features\n",
    "X = nba2.drop(columns=['AVG SALARY', 'PLAYER'], axis=1) # drop PLAYER from being standardized bc it is a string object"
   ]
  },
  {
   "cell_type": "markdown",
   "id": "1e0a0935",
   "metadata": {},
   "source": [
    "###  Scale the data"
   ]
  },
  {
   "cell_type": "code",
   "execution_count": null,
   "id": "955ef378",
   "metadata": {},
   "outputs": [],
   "source": [
    "# Standardize the scale for the data\n",
    "\n",
    "from sklearn.preprocessing import StandardScaler\n",
    "\n",
    "scaler = StandardScaler()\n",
    "scaler.fit(X)"
   ]
  },
  {
   "cell_type": "code",
   "execution_count": null,
   "id": "99211792",
   "metadata": {},
   "outputs": [],
   "source": [
    "X_scaled = scaler.transform(X)"
   ]
  },
  {
   "cell_type": "markdown",
   "id": "8c0eea95",
   "metadata": {},
   "source": [
    "### Train Test Split"
   ]
  },
  {
   "cell_type": "code",
   "execution_count": null,
   "id": "4162e28c",
   "metadata": {},
   "outputs": [],
   "source": [
    "from sklearn.linear_model import Lasso, Ridge, ElasticNet, LinearRegression\n",
    "from sklearn.model_selection import cross_val_score, train_test_split, KFold, GridSearchCV\n",
    "\n",
    "# Partition dataset into training and test sets\n",
    "X_train, X_test, y_train, y_test = train_test_split(X_scaled, y, test_size=0.25, random_state=0)"
   ]
  },
  {
   "cell_type": "markdown",
   "id": "ae2d6d03",
   "metadata": {},
   "source": [
    "### Split training data into multiple folds"
   ]
  },
  {
   "cell_type": "code",
   "execution_count": null,
   "id": "5f8c3499",
   "metadata": {},
   "outputs": [],
   "source": []
  },
  {
   "cell_type": "markdown",
   "id": "cb114d1f",
   "metadata": {},
   "source": [
    "### Create the regression"
   ]
  },
  {
   "cell_type": "code",
   "execution_count": null,
   "id": "be8145b6",
   "metadata": {},
   "outputs": [],
   "source": [
    "lm = LinearRegression()\n",
    "lm.fit(X_train, y_train)"
   ]
  },
  {
   "cell_type": "code",
   "execution_count": null,
   "id": "dcf085f7",
   "metadata": {},
   "outputs": [],
   "source": [
    "# Calculate the R^2\n",
    "lm.score(X_train, y_train)"
   ]
  },
  {
   "cell_type": "markdown",
   "id": "9b9760c0",
   "metadata": {},
   "source": [
    "Our model is explaining 74% of the variability of the data."
   ]
  },
  {
   "cell_type": "markdown",
   "id": "046d06e4",
   "metadata": {},
   "source": [
    "### Finding the weights and bias"
   ]
  },
  {
   "cell_type": "code",
   "execution_count": null,
   "id": "ab1256d8",
   "metadata": {},
   "outputs": [],
   "source": [
    "lm.intercept_"
   ]
  },
  {
   "cell_type": "code",
   "execution_count": null,
   "id": "4d4ca2d4",
   "metadata": {},
   "outputs": [],
   "source": [
    "lm.coef_"
   ]
  },
  {
   "cell_type": "code",
   "execution_count": null,
   "id": "995e876e",
   "metadata": {},
   "outputs": [],
   "source": [
    "# Create a summary table with the feature names and the weights\n",
    "lm_summary = pd.DataFrame(X.columns.values, columns=['Features'])\n",
    "lm_summary['Weights'] = lm.coef_\n",
    "lm_summary"
   ]
  },
  {
   "cell_type": "markdown",
   "id": "2c4069a4",
   "metadata": {},
   "source": [
    "A positive weight shows that as a feature increases in value, so does the \"AVG SALARY\" respectively.  Alternatively, a negative weight shows that as a feature increases in value, the \"AVG SALARY\" decreases."
   ]
  },
  {
   "cell_type": "markdown",
   "id": "025af33a",
   "metadata": {},
   "source": [
    "### Testing"
   ]
  },
  {
   "cell_type": "code",
   "execution_count": null,
   "id": "b494c507",
   "metadata": {},
   "outputs": [],
   "source": [
    "y_hat_test = lm.predict(X_test)"
   ]
  },
  {
   "cell_type": "code",
   "execution_count": null,
   "id": "d0d1c1b5",
   "metadata": {},
   "outputs": [],
   "source": [
    "plt.scatter(y_test, y_hat_test, alpha=0.25)\n",
    "plt.xlabel('Target (y_test)', size=15)\n",
    "plt.ylabel('Predictions (y_hat_test)', size=15)\n",
    "# plt.xlim()\n",
    "# plt.ylim()\n",
    "plt.show()"
   ]
  },
  {
   "cell_type": "markdown",
   "id": "af75d60f",
   "metadata": {},
   "source": [
    "We have more concentration on lower end, meaning our model is good at predicting at the lower salaries.  Not so much at the higher salaries."
   ]
  },
  {
   "cell_type": "code",
   "execution_count": null,
   "id": "6afffc63",
   "metadata": {},
   "outputs": [],
   "source": []
  }
 ],
 "metadata": {
  "kernelspec": {
   "display_name": "Python [conda env:metis] *",
   "language": "python",
   "name": "conda-env-metis-py"
  },
  "language_info": {
   "codemirror_mode": {
    "name": "ipython",
    "version": 3
   },
   "file_extension": ".py",
   "mimetype": "text/x-python",
   "name": "python",
   "nbconvert_exporter": "python",
   "pygments_lexer": "ipython3",
   "version": "3.9.12"
  }
 },
 "nbformat": 4,
 "nbformat_minor": 5
}
